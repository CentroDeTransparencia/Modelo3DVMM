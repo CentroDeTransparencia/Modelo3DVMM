{
 "cells": [
  {
   "cell_type": "code",
   "execution_count": null,
   "metadata": {},
   "outputs": [],
   "source": [
    "from graficas.iny_bar_total import fig as iny_bar"
   ]
  }
 ],
 "metadata": {
  "kernelspec": {
   "display_name": "Python 3.10.4 ('geomodel')",
   "language": "python",
   "name": "python3"
  },
  "language_info": {
   "name": "python",
   "version": "3.10.4"
  },
  "orig_nbformat": 4,
  "vscode": {
   "interpreter": {
    "hash": "58ed61a7f8e30d459482186d9d453bb98d6cad3476a847a66ce24d737e0463e8"
   }
  }
 },
 "nbformat": 4,
 "nbformat_minor": 2
}
